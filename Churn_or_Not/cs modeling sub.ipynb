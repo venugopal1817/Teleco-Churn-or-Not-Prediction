{
 "cells": [
  {
   "cell_type": "code",
   "execution_count": 1,
   "metadata": {},
   "outputs": [],
   "source": [
    "import numpy as np\n",
    "import pandas as pd\n",
    "import warnings\n",
    "warnings.filterwarnings(\"ignore\")\n",
    "from sklearn.model_selection import train_test_split\n",
    "# baseline in performance with logistic regression model\n",
    "from sklearn.datasets import make_classification\n",
    "from sklearn.preprocessing import LabelEncoder\n",
    "from sklearn.model_selection import train_test_split\n",
    "from sklearn.neighbors import KNeighborsClassifier\n",
    "from sklearn.calibration import CalibratedClassifierCV\n",
    "from sklearn.metrics.classification import accuracy_score, log_loss\n",
    "from sklearn.metrics import confusion_matrix\n",
    "import matplotlib.pyplot as plt\n",
    "import seaborn as sns\n",
    "from sklearn.naive_bayes import MultinomialNB\n",
    "from sklearn.preprocessing import MinMaxScaler\n",
    "from sklearn.linear_model import LogisticRegression\n",
    "from sklearn.linear_model import SGDClassifier\n",
    "from sklearn.ensemble import RandomForestClassifier,AdaBoostClassifier\n",
    "from xgboost import XGBClassifier\n",
    "from sklearn.model_selection import RandomizedSearchCV\n",
    "from sklearn.tree import DecisionTreeClassifier\n",
    "##https://machinelearningmastery.com/autoencoder-for-classification/\n",
    "# train autoencoder for classification with no compression in the bottleneck layer\n",
    "from sklearn.preprocessing import MinMaxScaler\n",
    "from tensorflow.keras.models import Model\n",
    "from tensorflow.keras.layers import Input\n",
    "from tensorflow.keras.layers import Dense\n",
    "from tensorflow.keras.layers import LeakyReLU\n",
    "from tensorflow.keras.layers import BatchNormalization\n",
    "from tensorflow.keras.utils import plot_model\n",
    "from matplotlib import pyplot\n",
    "from keras.models import load_model \n",
    "from imblearn.combine import SMOTEENN"
   ]
  },
  {
   "cell_type": "code",
   "execution_count": 2,
   "metadata": {},
   "outputs": [
    {
     "data": {
      "text/html": [
       "<div>\n",
       "<style scoped>\n",
       "    .dataframe tbody tr th:only-of-type {\n",
       "        vertical-align: middle;\n",
       "    }\n",
       "\n",
       "    .dataframe tbody tr th {\n",
       "        vertical-align: top;\n",
       "    }\n",
       "\n",
       "    .dataframe thead th {\n",
       "        text-align: right;\n",
       "    }\n",
       "</style>\n",
       "<table border=\"1\" class=\"dataframe\">\n",
       "  <thead>\n",
       "    <tr style=\"text-align: right;\">\n",
       "      <th></th>\n",
       "      <th>Unnamed: 0</th>\n",
       "      <th>SeniorCitizen</th>\n",
       "      <th>MonthlyCharges</th>\n",
       "      <th>TotalCharges</th>\n",
       "      <th>Churn</th>\n",
       "      <th>gender_Female</th>\n",
       "      <th>gender_Male</th>\n",
       "      <th>Partner_No</th>\n",
       "      <th>Partner_Yes</th>\n",
       "      <th>Dependents_No</th>\n",
       "      <th>...</th>\n",
       "      <th>PaymentMethod_Bank transfer (automatic)</th>\n",
       "      <th>PaymentMethod_Credit card (automatic)</th>\n",
       "      <th>PaymentMethod_Electronic check</th>\n",
       "      <th>PaymentMethod_Mailed check</th>\n",
       "      <th>mnth_tenure_group2_1 - 12</th>\n",
       "      <th>mnth_tenure_group2_13 - 24</th>\n",
       "      <th>mnth_tenure_group2_25 - 36</th>\n",
       "      <th>mnth_tenure_group2_37 - 48</th>\n",
       "      <th>mnth_tenure_group2_49 - 60</th>\n",
       "      <th>mnth_tenure_group2_61 - 72</th>\n",
       "    </tr>\n",
       "  </thead>\n",
       "  <tbody>\n",
       "    <tr>\n",
       "      <th>0</th>\n",
       "      <td>0</td>\n",
       "      <td>0</td>\n",
       "      <td>29.85</td>\n",
       "      <td>29.85</td>\n",
       "      <td>0</td>\n",
       "      <td>1</td>\n",
       "      <td>0</td>\n",
       "      <td>0</td>\n",
       "      <td>1</td>\n",
       "      <td>1</td>\n",
       "      <td>...</td>\n",
       "      <td>0</td>\n",
       "      <td>0</td>\n",
       "      <td>1</td>\n",
       "      <td>0</td>\n",
       "      <td>1</td>\n",
       "      <td>0</td>\n",
       "      <td>0</td>\n",
       "      <td>0</td>\n",
       "      <td>0</td>\n",
       "      <td>0</td>\n",
       "    </tr>\n",
       "    <tr>\n",
       "      <th>1</th>\n",
       "      <td>1</td>\n",
       "      <td>0</td>\n",
       "      <td>56.95</td>\n",
       "      <td>1889.50</td>\n",
       "      <td>0</td>\n",
       "      <td>0</td>\n",
       "      <td>1</td>\n",
       "      <td>1</td>\n",
       "      <td>0</td>\n",
       "      <td>1</td>\n",
       "      <td>...</td>\n",
       "      <td>0</td>\n",
       "      <td>0</td>\n",
       "      <td>0</td>\n",
       "      <td>1</td>\n",
       "      <td>0</td>\n",
       "      <td>0</td>\n",
       "      <td>1</td>\n",
       "      <td>0</td>\n",
       "      <td>0</td>\n",
       "      <td>0</td>\n",
       "    </tr>\n",
       "    <tr>\n",
       "      <th>2</th>\n",
       "      <td>2</td>\n",
       "      <td>0</td>\n",
       "      <td>53.85</td>\n",
       "      <td>108.15</td>\n",
       "      <td>1</td>\n",
       "      <td>0</td>\n",
       "      <td>1</td>\n",
       "      <td>1</td>\n",
       "      <td>0</td>\n",
       "      <td>1</td>\n",
       "      <td>...</td>\n",
       "      <td>0</td>\n",
       "      <td>0</td>\n",
       "      <td>0</td>\n",
       "      <td>1</td>\n",
       "      <td>1</td>\n",
       "      <td>0</td>\n",
       "      <td>0</td>\n",
       "      <td>0</td>\n",
       "      <td>0</td>\n",
       "      <td>0</td>\n",
       "    </tr>\n",
       "    <tr>\n",
       "      <th>3</th>\n",
       "      <td>3</td>\n",
       "      <td>0</td>\n",
       "      <td>42.30</td>\n",
       "      <td>1840.75</td>\n",
       "      <td>0</td>\n",
       "      <td>0</td>\n",
       "      <td>1</td>\n",
       "      <td>1</td>\n",
       "      <td>0</td>\n",
       "      <td>1</td>\n",
       "      <td>...</td>\n",
       "      <td>1</td>\n",
       "      <td>0</td>\n",
       "      <td>0</td>\n",
       "      <td>0</td>\n",
       "      <td>0</td>\n",
       "      <td>0</td>\n",
       "      <td>0</td>\n",
       "      <td>1</td>\n",
       "      <td>0</td>\n",
       "      <td>0</td>\n",
       "    </tr>\n",
       "    <tr>\n",
       "      <th>4</th>\n",
       "      <td>4</td>\n",
       "      <td>0</td>\n",
       "      <td>70.70</td>\n",
       "      <td>151.65</td>\n",
       "      <td>1</td>\n",
       "      <td>1</td>\n",
       "      <td>0</td>\n",
       "      <td>1</td>\n",
       "      <td>0</td>\n",
       "      <td>1</td>\n",
       "      <td>...</td>\n",
       "      <td>0</td>\n",
       "      <td>0</td>\n",
       "      <td>1</td>\n",
       "      <td>0</td>\n",
       "      <td>1</td>\n",
       "      <td>0</td>\n",
       "      <td>0</td>\n",
       "      <td>0</td>\n",
       "      <td>0</td>\n",
       "      <td>0</td>\n",
       "    </tr>\n",
       "  </tbody>\n",
       "</table>\n",
       "<p>5 rows × 52 columns</p>\n",
       "</div>"
      ],
      "text/plain": [
       "   Unnamed: 0  SeniorCitizen  MonthlyCharges  TotalCharges  Churn  \\\n",
       "0           0              0           29.85         29.85      0   \n",
       "1           1              0           56.95       1889.50      0   \n",
       "2           2              0           53.85        108.15      1   \n",
       "3           3              0           42.30       1840.75      0   \n",
       "4           4              0           70.70        151.65      1   \n",
       "\n",
       "   gender_Female  gender_Male  Partner_No  Partner_Yes  Dependents_No  ...  \\\n",
       "0              1            0           0            1              1  ...   \n",
       "1              0            1           1            0              1  ...   \n",
       "2              0            1           1            0              1  ...   \n",
       "3              0            1           1            0              1  ...   \n",
       "4              1            0           1            0              1  ...   \n",
       "\n",
       "   PaymentMethod_Bank transfer (automatic)  \\\n",
       "0                                        0   \n",
       "1                                        0   \n",
       "2                                        0   \n",
       "3                                        1   \n",
       "4                                        0   \n",
       "\n",
       "   PaymentMethod_Credit card (automatic)  PaymentMethod_Electronic check  \\\n",
       "0                                      0                               1   \n",
       "1                                      0                               0   \n",
       "2                                      0                               0   \n",
       "3                                      0                               0   \n",
       "4                                      0                               1   \n",
       "\n",
       "   PaymentMethod_Mailed check  mnth_tenure_group2_1 - 12  \\\n",
       "0                           0                          1   \n",
       "1                           1                          0   \n",
       "2                           1                          1   \n",
       "3                           0                          0   \n",
       "4                           0                          1   \n",
       "\n",
       "   mnth_tenure_group2_13 - 24  mnth_tenure_group2_25 - 36  \\\n",
       "0                           0                           0   \n",
       "1                           0                           1   \n",
       "2                           0                           0   \n",
       "3                           0                           0   \n",
       "4                           0                           0   \n",
       "\n",
       "   mnth_tenure_group2_37 - 48  mnth_tenure_group2_49 - 60  \\\n",
       "0                           0                           0   \n",
       "1                           0                           0   \n",
       "2                           0                           0   \n",
       "3                           1                           0   \n",
       "4                           0                           0   \n",
       "\n",
       "   mnth_tenure_group2_61 - 72  \n",
       "0                           0  \n",
       "1                           0  \n",
       "2                           0  \n",
       "3                           0  \n",
       "4                           0  \n",
       "\n",
       "[5 rows x 52 columns]"
      ]
     },
     "execution_count": 2,
     "metadata": {},
     "output_type": "execute_result"
    }
   ],
   "source": [
    "data=pd.read_csv(\"E:/Venu/Applied ai course/Assignments data and ipynb/Case study 1/tel_churn.csv\")\n",
    "data.head()"
   ]
  },
  {
   "cell_type": "code",
   "execution_count": 3,
   "metadata": {},
   "outputs": [
    {
     "data": {
      "text/plain": [
       "(7032, 52)"
      ]
     },
     "execution_count": 3,
     "metadata": {},
     "output_type": "execute_result"
    }
   ],
   "source": [
    "data.shape"
   ]
  },
  {
   "cell_type": "code",
   "execution_count": 4,
   "metadata": {},
   "outputs": [],
   "source": [
    "data.dropna(how = 'any', inplace = True)"
   ]
  },
  {
   "cell_type": "code",
   "execution_count": 5,
   "metadata": {},
   "outputs": [
    {
     "data": {
      "text/html": [
       "<div>\n",
       "<style scoped>\n",
       "    .dataframe tbody tr th:only-of-type {\n",
       "        vertical-align: middle;\n",
       "    }\n",
       "\n",
       "    .dataframe tbody tr th {\n",
       "        vertical-align: top;\n",
       "    }\n",
       "\n",
       "    .dataframe thead th {\n",
       "        text-align: right;\n",
       "    }\n",
       "</style>\n",
       "<table border=\"1\" class=\"dataframe\">\n",
       "  <thead>\n",
       "    <tr style=\"text-align: right;\">\n",
       "      <th></th>\n",
       "      <th>Unnamed: 0</th>\n",
       "      <th>SeniorCitizen</th>\n",
       "      <th>MonthlyCharges</th>\n",
       "      <th>TotalCharges</th>\n",
       "      <th>gender_Female</th>\n",
       "      <th>gender_Male</th>\n",
       "      <th>Partner_No</th>\n",
       "      <th>Partner_Yes</th>\n",
       "      <th>Dependents_No</th>\n",
       "      <th>Dependents_Yes</th>\n",
       "      <th>...</th>\n",
       "      <th>PaymentMethod_Bank transfer (automatic)</th>\n",
       "      <th>PaymentMethod_Credit card (automatic)</th>\n",
       "      <th>PaymentMethod_Electronic check</th>\n",
       "      <th>PaymentMethod_Mailed check</th>\n",
       "      <th>mnth_tenure_group2_1 - 12</th>\n",
       "      <th>mnth_tenure_group2_13 - 24</th>\n",
       "      <th>mnth_tenure_group2_25 - 36</th>\n",
       "      <th>mnth_tenure_group2_37 - 48</th>\n",
       "      <th>mnth_tenure_group2_49 - 60</th>\n",
       "      <th>mnth_tenure_group2_61 - 72</th>\n",
       "    </tr>\n",
       "  </thead>\n",
       "  <tbody>\n",
       "    <tr>\n",
       "      <th>0</th>\n",
       "      <td>0</td>\n",
       "      <td>0</td>\n",
       "      <td>29.85</td>\n",
       "      <td>29.85</td>\n",
       "      <td>1</td>\n",
       "      <td>0</td>\n",
       "      <td>0</td>\n",
       "      <td>1</td>\n",
       "      <td>1</td>\n",
       "      <td>0</td>\n",
       "      <td>...</td>\n",
       "      <td>0</td>\n",
       "      <td>0</td>\n",
       "      <td>1</td>\n",
       "      <td>0</td>\n",
       "      <td>1</td>\n",
       "      <td>0</td>\n",
       "      <td>0</td>\n",
       "      <td>0</td>\n",
       "      <td>0</td>\n",
       "      <td>0</td>\n",
       "    </tr>\n",
       "    <tr>\n",
       "      <th>1</th>\n",
       "      <td>1</td>\n",
       "      <td>0</td>\n",
       "      <td>56.95</td>\n",
       "      <td>1889.50</td>\n",
       "      <td>0</td>\n",
       "      <td>1</td>\n",
       "      <td>1</td>\n",
       "      <td>0</td>\n",
       "      <td>1</td>\n",
       "      <td>0</td>\n",
       "      <td>...</td>\n",
       "      <td>0</td>\n",
       "      <td>0</td>\n",
       "      <td>0</td>\n",
       "      <td>1</td>\n",
       "      <td>0</td>\n",
       "      <td>0</td>\n",
       "      <td>1</td>\n",
       "      <td>0</td>\n",
       "      <td>0</td>\n",
       "      <td>0</td>\n",
       "    </tr>\n",
       "    <tr>\n",
       "      <th>2</th>\n",
       "      <td>2</td>\n",
       "      <td>0</td>\n",
       "      <td>53.85</td>\n",
       "      <td>108.15</td>\n",
       "      <td>0</td>\n",
       "      <td>1</td>\n",
       "      <td>1</td>\n",
       "      <td>0</td>\n",
       "      <td>1</td>\n",
       "      <td>0</td>\n",
       "      <td>...</td>\n",
       "      <td>0</td>\n",
       "      <td>0</td>\n",
       "      <td>0</td>\n",
       "      <td>1</td>\n",
       "      <td>1</td>\n",
       "      <td>0</td>\n",
       "      <td>0</td>\n",
       "      <td>0</td>\n",
       "      <td>0</td>\n",
       "      <td>0</td>\n",
       "    </tr>\n",
       "    <tr>\n",
       "      <th>3</th>\n",
       "      <td>3</td>\n",
       "      <td>0</td>\n",
       "      <td>42.30</td>\n",
       "      <td>1840.75</td>\n",
       "      <td>0</td>\n",
       "      <td>1</td>\n",
       "      <td>1</td>\n",
       "      <td>0</td>\n",
       "      <td>1</td>\n",
       "      <td>0</td>\n",
       "      <td>...</td>\n",
       "      <td>1</td>\n",
       "      <td>0</td>\n",
       "      <td>0</td>\n",
       "      <td>0</td>\n",
       "      <td>0</td>\n",
       "      <td>0</td>\n",
       "      <td>0</td>\n",
       "      <td>1</td>\n",
       "      <td>0</td>\n",
       "      <td>0</td>\n",
       "    </tr>\n",
       "    <tr>\n",
       "      <th>4</th>\n",
       "      <td>4</td>\n",
       "      <td>0</td>\n",
       "      <td>70.70</td>\n",
       "      <td>151.65</td>\n",
       "      <td>1</td>\n",
       "      <td>0</td>\n",
       "      <td>1</td>\n",
       "      <td>0</td>\n",
       "      <td>1</td>\n",
       "      <td>0</td>\n",
       "      <td>...</td>\n",
       "      <td>0</td>\n",
       "      <td>0</td>\n",
       "      <td>1</td>\n",
       "      <td>0</td>\n",
       "      <td>1</td>\n",
       "      <td>0</td>\n",
       "      <td>0</td>\n",
       "      <td>0</td>\n",
       "      <td>0</td>\n",
       "      <td>0</td>\n",
       "    </tr>\n",
       "  </tbody>\n",
       "</table>\n",
       "<p>5 rows × 51 columns</p>\n",
       "</div>"
      ],
      "text/plain": [
       "   Unnamed: 0  SeniorCitizen  MonthlyCharges  TotalCharges  gender_Female  \\\n",
       "0           0              0           29.85         29.85              1   \n",
       "1           1              0           56.95       1889.50              0   \n",
       "2           2              0           53.85        108.15              0   \n",
       "3           3              0           42.30       1840.75              0   \n",
       "4           4              0           70.70        151.65              1   \n",
       "\n",
       "   gender_Male  Partner_No  Partner_Yes  Dependents_No  Dependents_Yes  ...  \\\n",
       "0            0           0            1              1               0  ...   \n",
       "1            1           1            0              1               0  ...   \n",
       "2            1           1            0              1               0  ...   \n",
       "3            1           1            0              1               0  ...   \n",
       "4            0           1            0              1               0  ...   \n",
       "\n",
       "   PaymentMethod_Bank transfer (automatic)  \\\n",
       "0                                        0   \n",
       "1                                        0   \n",
       "2                                        0   \n",
       "3                                        1   \n",
       "4                                        0   \n",
       "\n",
       "   PaymentMethod_Credit card (automatic)  PaymentMethod_Electronic check  \\\n",
       "0                                      0                               1   \n",
       "1                                      0                               0   \n",
       "2                                      0                               0   \n",
       "3                                      0                               0   \n",
       "4                                      0                               1   \n",
       "\n",
       "   PaymentMethod_Mailed check  mnth_tenure_group2_1 - 12  \\\n",
       "0                           0                          1   \n",
       "1                           1                          0   \n",
       "2                           1                          1   \n",
       "3                           0                          0   \n",
       "4                           0                          1   \n",
       "\n",
       "   mnth_tenure_group2_13 - 24  mnth_tenure_group2_25 - 36  \\\n",
       "0                           0                           0   \n",
       "1                           0                           1   \n",
       "2                           0                           0   \n",
       "3                           0                           0   \n",
       "4                           0                           0   \n",
       "\n",
       "   mnth_tenure_group2_37 - 48  mnth_tenure_group2_49 - 60  \\\n",
       "0                           0                           0   \n",
       "1                           0                           0   \n",
       "2                           0                           0   \n",
       "3                           1                           0   \n",
       "4                           0                           0   \n",
       "\n",
       "   mnth_tenure_group2_61 - 72  \n",
       "0                           0  \n",
       "1                           0  \n",
       "2                           0  \n",
       "3                           0  \n",
       "4                           0  \n",
       "\n",
       "[5 rows x 51 columns]"
      ]
     },
     "execution_count": 5,
     "metadata": {},
     "output_type": "execute_result"
    }
   ],
   "source": [
    "# Here dropping target variable for splitting input and output data for applying model\n",
    "input=data.drop('Churn',axis=1)\n",
    "input.head()"
   ]
  },
  {
   "cell_type": "code",
   "execution_count": 6,
   "metadata": {},
   "outputs": [
    {
     "data": {
      "text/plain": [
       "0    0\n",
       "1    0\n",
       "2    1\n",
       "3    0\n",
       "4    1\n",
       "Name: Churn, dtype: int64"
      ]
     },
     "execution_count": 6,
     "metadata": {},
     "output_type": "execute_result"
    }
   ],
   "source": [
    "target=data['Churn']\n",
    "target.head()"
   ]
  },
  {
   "cell_type": "code",
   "execution_count": 7,
   "metadata": {},
   "outputs": [],
   "source": [
    "x_train,x_test,y_train,y_test=train_test_split(input, target,test_size=0.2)"
   ]
  },
  {
   "cell_type": "code",
   "execution_count": 8,
   "metadata": {},
   "outputs": [
    {
     "name": "stdout",
     "output_type": "stream",
     "text": [
      "(5625, 51)\n",
      "(1407, 51)\n",
      "(5625,)\n",
      "(1407,)\n"
     ]
    }
   ],
   "source": [
    "print(x_train.shape)\n",
    "print(x_test.shape)\n",
    "print(y_train.shape)\n",
    "print(y_test.shape)"
   ]
  },
  {
   "cell_type": "code",
   "execution_count": 9,
   "metadata": {},
   "outputs": [],
   "source": [
    "##https://github.com/pik1989/MLProject-ChurnPrediction\n",
    "from imblearn.combine import SMOTEENN\n",
    "sample_data = SMOTEENN()\n",
    "X_tr_resampled, y_tr_resampled = sample_data.fit_sample(x_train,y_train)"
   ]
  },
  {
   "cell_type": "code",
   "execution_count": 10,
   "metadata": {},
   "outputs": [
    {
     "name": "stdout",
     "output_type": "stream",
     "text": [
      "(3789, 51)\n",
      "(3789,)\n",
      "(1407, 51)\n",
      "(1407,)\n"
     ]
    }
   ],
   "source": [
    "print(X_tr_resampled.shape)\n",
    "print(y_tr_resampled.shape)\n",
    "print(x_test.shape)\n",
    "print(y_test.shape)"
   ]
  },
  {
   "cell_type": "code",
   "execution_count": 12,
   "metadata": {},
   "outputs": [],
   "source": [
    "# scale data\n",
    "scale_input = MinMaxScaler()\n",
    "scale_input.fit(X_tr_resampled)\n",
    "X_train_std = scale_input.transform(X_tr_resampled)\n",
    "X_test_std = scale_input.transform(x_test)"
   ]
  },
  {
   "cell_type": "code",
   "execution_count": 13,
   "metadata": {},
   "outputs": [],
   "source": [
    "num_of_inputs1=51\n",
    "encoder1= Input(shape=(num_of_inputs1,))\n",
    "encoding1 = Dense(32)(encoder1)\n",
    "encoding1 = BatchNormalization()(encoding1)\n",
    "encoding1 = LeakyReLU()(encoding1)\n",
    "# encoder level 2\n",
    "encoding1 = Dense(16)(encoding1)\n",
    "encoding1 = BatchNormalization()(encoding1)\n",
    "encoding1 = LeakyReLU()(encoding1)\n",
    "# bottleneck\n",
    "n_bottleneck_features1 =8\n",
    "bottleneck_features1 = Dense(n_bottleneck_features1)(encoding1)"
   ]
  },
  {
   "cell_type": "code",
   "execution_count": 14,
   "metadata": {},
   "outputs": [],
   "source": [
    "# define decoder, level 1\n",
    "decoding1 = Dense(8)(bottleneck_features1)\n",
    "decoding1 = BatchNormalization()(decoding1)\n",
    "decoding1 = LeakyReLU()(decoding1)\n",
    "# decoder level 2\n",
    "decoding1  = Dense(16)(decoding1)\n",
    "decoding1 = BatchNormalization()(decoding1)\n",
    "decoding1  = LeakyReLU()(decoding1)\n",
    "# output layer\n",
    "decoding1 = Dense(32)(decoding1)\n",
    "Decoder1=Dense(51,activation='linear')(decoding1)\n"
   ]
  },
  {
   "cell_type": "code",
   "execution_count": 15,
   "metadata": {},
   "outputs": [],
   "source": [
    "# define autoencoder model\n",
    "model = Model(inputs=encoder1, outputs=Decoder1)"
   ]
  },
  {
   "cell_type": "code",
   "execution_count": 16,
   "metadata": {},
   "outputs": [
    {
     "name": "stdout",
     "output_type": "stream",
     "text": [
      "Model: \"model\"\n",
      "_________________________________________________________________\n",
      "Layer (type)                 Output Shape              Param #   \n",
      "=================================================================\n",
      "input_1 (InputLayer)         [(None, 51)]              0         \n",
      "_________________________________________________________________\n",
      "dense (Dense)                (None, 32)                1664      \n",
      "_________________________________________________________________\n",
      "batch_normalization (BatchNo (None, 32)                128       \n",
      "_________________________________________________________________\n",
      "leaky_re_lu (LeakyReLU)      (None, 32)                0         \n",
      "_________________________________________________________________\n",
      "dense_1 (Dense)              (None, 16)                528       \n",
      "_________________________________________________________________\n",
      "batch_normalization_1 (Batch (None, 16)                64        \n",
      "_________________________________________________________________\n",
      "leaky_re_lu_1 (LeakyReLU)    (None, 16)                0         \n",
      "_________________________________________________________________\n",
      "dense_2 (Dense)              (None, 8)                 136       \n",
      "_________________________________________________________________\n",
      "dense_3 (Dense)              (None, 8)                 72        \n",
      "_________________________________________________________________\n",
      "batch_normalization_2 (Batch (None, 8)                 32        \n",
      "_________________________________________________________________\n",
      "leaky_re_lu_2 (LeakyReLU)    (None, 8)                 0         \n",
      "_________________________________________________________________\n",
      "dense_4 (Dense)              (None, 16)                144       \n",
      "_________________________________________________________________\n",
      "batch_normalization_3 (Batch (None, 16)                64        \n",
      "_________________________________________________________________\n",
      "leaky_re_lu_3 (LeakyReLU)    (None, 16)                0         \n",
      "_________________________________________________________________\n",
      "dense_5 (Dense)              (None, 32)                544       \n",
      "_________________________________________________________________\n",
      "dense_6 (Dense)              (None, 51)                1683      \n",
      "=================================================================\n",
      "Total params: 5,059\n",
      "Trainable params: 4,915\n",
      "Non-trainable params: 144\n",
      "_________________________________________________________________\n"
     ]
    }
   ],
   "source": [
    "model.summary()"
   ]
  },
  {
   "cell_type": "code",
   "execution_count": 17,
   "metadata": {},
   "outputs": [],
   "source": [
    "model.compile(loss='mse',optimizer='Adam',)"
   ]
  },
  {
   "cell_type": "code",
   "execution_count": 18,
   "metadata": {},
   "outputs": [
    {
     "name": "stdout",
     "output_type": "stream",
     "text": [
      "Epoch 1/50\n",
      "237/237 [==============================] - 1s 6ms/step - loss: 0.2066 - val_loss: 0.1463\n",
      "Epoch 2/50\n",
      "237/237 [==============================] - 1s 4ms/step - loss: 0.0940 - val_loss: 0.1437\n",
      "Epoch 3/50\n",
      "237/237 [==============================] - 1s 4ms/step - loss: 0.0857 - val_loss: 0.1456\n",
      "Epoch 4/50\n",
      "237/237 [==============================] - 1s 4ms/step - loss: 0.0812 - val_loss: 0.1454\n",
      "Epoch 5/50\n",
      "237/237 [==============================] - 1s 4ms/step - loss: 0.0769 - val_loss: 0.1453\n",
      "Epoch 6/50\n",
      "237/237 [==============================] - 1s 4ms/step - loss: 0.0788 - val_loss: 0.1477\n",
      "Epoch 7/50\n",
      "237/237 [==============================] - 1s 4ms/step - loss: 0.0766 - val_loss: 0.1475\n",
      "Epoch 8/50\n",
      "237/237 [==============================] - 1s 4ms/step - loss: 0.0735 - val_loss: 0.1461\n",
      "Epoch 9/50\n",
      "237/237 [==============================] - 1s 4ms/step - loss: 0.0728 - val_loss: 0.1404\n",
      "Epoch 10/50\n",
      "237/237 [==============================] - 1s 4ms/step - loss: 0.0742 - val_loss: 0.1455\n",
      "Epoch 11/50\n",
      "237/237 [==============================] - 1s 4ms/step - loss: 0.0743 - val_loss: 0.1420\n",
      "Epoch 12/50\n",
      "237/237 [==============================] - 1s 4ms/step - loss: 0.0728 - val_loss: 0.1426\n",
      "Epoch 13/50\n",
      "237/237 [==============================] - 1s 4ms/step - loss: 0.0704 - val_loss: 0.1480\n",
      "Epoch 14/50\n",
      "237/237 [==============================] - 1s 4ms/step - loss: 0.0709 - val_loss: 0.1472\n",
      "Epoch 15/50\n",
      "237/237 [==============================] - 1s 4ms/step - loss: 0.0682 - val_loss: 0.1467\n",
      "Epoch 16/50\n",
      "237/237 [==============================] - 1s 4ms/step - loss: 0.0727 - val_loss: 0.1441\n",
      "Epoch 17/50\n",
      "237/237 [==============================] - 1s 4ms/step - loss: 0.0682 - val_loss: 0.1568\n",
      "Epoch 18/50\n",
      "237/237 [==============================] - 1s 4ms/step - loss: 0.0691 - val_loss: 0.1505\n",
      "Epoch 19/50\n",
      "237/237 [==============================] - 1s 4ms/step - loss: 0.0659 - val_loss: 0.1475\n",
      "Epoch 20/50\n",
      "237/237 [==============================] - 1s 4ms/step - loss: 0.0683 - val_loss: 0.1486\n",
      "Epoch 21/50\n",
      "237/237 [==============================] - 1s 4ms/step - loss: 0.0666 - val_loss: 0.1439\n",
      "Epoch 22/50\n",
      "237/237 [==============================] - 1s 4ms/step - loss: 0.0655 - val_loss: 0.1415\n",
      "Epoch 23/50\n",
      "237/237 [==============================] - 1s 4ms/step - loss: 0.0657 - val_loss: 0.1489\n",
      "Epoch 24/50\n",
      "237/237 [==============================] - 1s 4ms/step - loss: 0.0647 - val_loss: 0.1499\n",
      "Epoch 25/50\n",
      "237/237 [==============================] - 1s 4ms/step - loss: 0.0648 - val_loss: 0.1465\n",
      "Epoch 26/50\n",
      "237/237 [==============================] - 1s 4ms/step - loss: 0.0621 - val_loss: 0.1443\n",
      "Epoch 27/50\n",
      "237/237 [==============================] - 1s 4ms/step - loss: 0.0612 - val_loss: 0.1512\n",
      "Epoch 28/50\n",
      "237/237 [==============================] - 1s 4ms/step - loss: 0.0644 - val_loss: 0.1449\n",
      "Epoch 29/50\n",
      "237/237 [==============================] - 1s 4ms/step - loss: 0.0653 - val_loss: 0.1537\n",
      "Epoch 30/50\n",
      "237/237 [==============================] - 1s 4ms/step - loss: 0.0618 - val_loss: 0.1529\n",
      "Epoch 31/50\n",
      "237/237 [==============================] - 1s 4ms/step - loss: 0.0635 - val_loss: 0.1524\n",
      "Epoch 32/50\n",
      "237/237 [==============================] - 1s 4ms/step - loss: 0.0631 - val_loss: 0.1524\n",
      "Epoch 33/50\n",
      "237/237 [==============================] - 1s 4ms/step - loss: 0.0628 - val_loss: 0.1447\n",
      "Epoch 34/50\n",
      "237/237 [==============================] - 1s 4ms/step - loss: 0.0625 - val_loss: 0.1438\n",
      "Epoch 35/50\n",
      "237/237 [==============================] - 1s 4ms/step - loss: 0.0620 - val_loss: 0.1534\n",
      "Epoch 36/50\n",
      "237/237 [==============================] - 1s 4ms/step - loss: 0.0620 - val_loss: 0.1472\n",
      "Epoch 37/50\n",
      "237/237 [==============================] - 1s 4ms/step - loss: 0.0622 - val_loss: 0.1479\n",
      "Epoch 38/50\n",
      "237/237 [==============================] - 1s 4ms/step - loss: 0.0607 - val_loss: 0.1551\n",
      "Epoch 39/50\n",
      "237/237 [==============================] - 1s 4ms/step - loss: 0.0592 - val_loss: 0.1525\n",
      "Epoch 40/50\n",
      "237/237 [==============================] - 1s 4ms/step - loss: 0.0589 - val_loss: 0.1510\n",
      "Epoch 41/50\n",
      "237/237 [==============================] - 1s 4ms/step - loss: 0.0594 - val_loss: 0.1448\n",
      "Epoch 42/50\n",
      "237/237 [==============================] - 1s 4ms/step - loss: 0.0611 - val_loss: 0.1456\n",
      "Epoch 43/50\n",
      "237/237 [==============================] - 1s 4ms/step - loss: 0.0606 - val_loss: 0.1528\n",
      "Epoch 44/50\n",
      "237/237 [==============================] - 1s 4ms/step - loss: 0.0593 - val_loss: 0.1502\n",
      "Epoch 45/50\n",
      "237/237 [==============================] - 1s 4ms/step - loss: 0.0576 - val_loss: 0.1533\n",
      "Epoch 46/50\n",
      "237/237 [==============================] - 1s 4ms/step - loss: 0.0587 - val_loss: 0.1476\n",
      "Epoch 47/50\n",
      "237/237 [==============================] - 1s 4ms/step - loss: 0.0593 - val_loss: 0.1568\n",
      "Epoch 48/50\n",
      "237/237 [==============================] - 1s 4ms/step - loss: 0.0593 - val_loss: 0.1587\n",
      "Epoch 49/50\n",
      "237/237 [==============================] - 1s 4ms/step - loss: 0.0588 - val_loss: 0.1515\n",
      "Epoch 50/50\n",
      "237/237 [==============================] - 1s 4ms/step - loss: 0.0602 - val_loss: 0.1527\n"
     ]
    }
   ],
   "source": [
    "# fit the autoencoder model to reconstruct input\n",
    "Auto_E_D1 = model.fit(X_train_std, y_tr_resampled, epochs=50, batch_size=16, verbose=1, validation_data=(X_test_std, y_test))"
   ]
  },
  {
   "cell_type": "code",
   "execution_count": 19,
   "metadata": {},
   "outputs": [],
   "source": [
    "encoder_only = Model(inputs=encoder1, outputs=bottleneck_features1 )"
   ]
  },
  {
   "cell_type": "code",
   "execution_count": 20,
   "metadata": {},
   "outputs": [],
   "source": [
    "encoder_only.save('encoder_mo.h5')"
   ]
  },
  {
   "cell_type": "code",
   "execution_count": 21,
   "metadata": {},
   "outputs": [
    {
     "name": "stdout",
     "output_type": "stream",
     "text": [
      "WARNING:tensorflow:No training configuration found in the save file, so the model was *not* compiled. Compile it manually.\n"
     ]
    }
   ],
   "source": [
    "encoder_only = load_model('encoder_mo.h5')"
   ]
  },
  {
   "cell_type": "code",
   "execution_count": 22,
   "metadata": {},
   "outputs": [],
   "source": [
    "X_train_encoder = encoder_only.predict(X_train_std)"
   ]
  },
  {
   "cell_type": "code",
   "execution_count": 23,
   "metadata": {},
   "outputs": [],
   "source": [
    "X_test_encoder = encoder_only.predict(X_test_std)"
   ]
  },
  {
   "cell_type": "markdown",
   "metadata": {},
   "source": [
    "# APPLYING MODELS"
   ]
  },
  {
   "cell_type": "markdown",
   "metadata": {},
   "source": [
    "### Random Forest"
   ]
  },
  {
   "cell_type": "code",
   "execution_count": 24,
   "metadata": {},
   "outputs": [
    {
     "data": {
      "text/plain": [
       "0.7810945273631841"
      ]
     },
     "execution_count": 24,
     "metadata": {},
     "output_type": "execute_result"
    }
   ],
   "source": [
    "model1=RandomForestClassifier(n_estimators=100, criterion='gini', random_state = 100,max_depth=6, min_samples_leaf=8)\n",
    "model1.fit(X_train_encoder,y_tr_resampled)\n",
    "y_pred_rf=model1.predict(X_test_encoder)\n",
    "model1.score(X_test_encoder,y_test)"
   ]
  },
  {
   "cell_type": "markdown",
   "metadata": {},
   "source": [
    "# Xgb Classifier"
   ]
  },
  {
   "cell_type": "code",
   "execution_count": null,
   "metadata": {},
   "outputs": [
    {
     "name": "stdout",
     "output_type": "stream",
     "text": [
      "Fitting 5 folds for each of 10 candidates, totalling 50 fits\n"
     ]
    },
    {
     "name": "stderr",
     "output_type": "stream",
     "text": [
      "[Parallel(n_jobs=-1)]: Using backend LokyBackend with 4 concurrent workers.\n",
      "[Parallel(n_jobs=-1)]: Done   5 tasks      | elapsed:    5.0s\n",
      "[Parallel(n_jobs=-1)]: Done  10 tasks      | elapsed:    5.9s\n"
     ]
    }
   ],
   "source": [
    "# https://www.analyticsvidhya.com/blog/2016/03/complete-guide-parameter-tuning-xgboost-with-codes-python/\n",
    "model2=XGBClassifier()\n",
    "\n",
    "prams={\n",
    "    'learning_rate':[0.01,0.03,0.05,0.1,0.15,0.2],\n",
    "     'n_estimators':[100,200,500,1000,2000],\n",
    "     'max_depth':[3,5,10],\n",
    "    'min_child_weight':[1,4,7],\n",
    "    'colsample_bytree':[0.1,0.3,0.5,1],\n",
    "    'subsample':[0.1,0.3,0.5,1]\n",
    "}\n",
    "model2=RandomizedSearchCV(model2,param_distributions=prams,verbose=10,n_jobs=-1,cv=5)\n",
    "model2.fit(X_train_encoder,y_tr_resampled)\n"
   ]
  },
  {
   "cell_type": "code",
   "execution_count": null,
   "metadata": {},
   "outputs": [],
   "source": [
    "print(model2.best_params_)"
   ]
  },
  {
   "cell_type": "code",
   "execution_count": null,
   "metadata": {},
   "outputs": [],
   "source": [
    "model2 =XGBClassifier(subsample=1,n_estimators=200,min_child_weight=1,max_depth=5,learning_rate=0.03,colsample_bytree=0.5)\n",
    "model2.fit(X_train_encoder,y_tr_resampled)\n"
   ]
  },
  {
   "cell_type": "code",
   "execution_count": null,
   "metadata": {},
   "outputs": [],
   "source": [
    " y_pred_xgb=model2.predict(X_test_encoder)"
   ]
  },
  {
   "cell_type": "code",
   "execution_count": null,
   "metadata": {},
   "outputs": [],
   "source": [
    "model2.score(X_test_encoder,y_test)"
   ]
  },
  {
   "cell_type": "markdown",
   "metadata": {},
   "source": [
    "# ADABOOST Classifier"
   ]
  },
  {
   "cell_type": "code",
   "execution_count": null,
   "metadata": {},
   "outputs": [],
   "source": [
    "model3=AdaBoostClassifier()\n",
    "\n",
    "parameters={\n",
    "    'learning_rate':[0.01,0.03,0.05],\n",
    "     'n_estimators':[100,200,500]\n",
    "}\n",
    "model3=RandomizedSearchCV(model3,param_distributions=parameters,verbose=10,n_jobs=-1,cv=5)\n",
    "model3.fit(X_train_encoder,y_tr_resampled)"
   ]
  },
  {
   "cell_type": "code",
   "execution_count": null,
   "metadata": {},
   "outputs": [],
   "source": [
    "print(model3.best_params_)"
   ]
  },
  {
   "cell_type": "code",
   "execution_count": null,
   "metadata": {},
   "outputs": [],
   "source": [
    "model3=AdaBoostClassifier(learning_rate=0.05,n_estimators=500)\n",
    "model3.fit(X_train_encoder,y_tr_resampled)"
   ]
  },
  {
   "cell_type": "code",
   "execution_count": null,
   "metadata": {},
   "outputs": [],
   "source": [
    "y_pred_ada=model3.predict(X_test_encoder)"
   ]
  },
  {
   "cell_type": "code",
   "execution_count": null,
   "metadata": {},
   "outputs": [],
   "source": [
    "model3.score(X_test_encoder,y_test)"
   ]
  },
  {
   "cell_type": "code",
   "execution_count": null,
   "metadata": {},
   "outputs": [],
   "source": []
  },
  {
   "cell_type": "markdown",
   "metadata": {},
   "source": [
    "# Applying models without auto encoders and decoders"
   ]
  },
  {
   "cell_type": "code",
   "execution_count": null,
   "metadata": {},
   "outputs": [],
   "source": [
    "model_en=RandomForestClassifier(n_estimators=100, criterion='gini', random_state = 100,max_depth=6, min_samples_leaf=8)\n",
    "model_en.fit(x_train,y_train)\n",
    "y_pred=model_en.predict(x_test)\n",
    "model_en.score(x_test,y_test)"
   ]
  },
  {
   "cell_type": "code",
   "execution_count": null,
   "metadata": {},
   "outputs": [],
   "source": [
    "print(X_tr_resampled.shape)\n",
    "print(y_tr_resampled.shape)\n",
    "print(x_test.shape)\n",
    "print(y_test.shape)"
   ]
  },
  {
   "cell_type": "code",
   "execution_count": null,
   "metadata": {},
   "outputs": [],
   "source": [
    "model_en_sam=RandomForestClassifier(n_estimators=100, criterion='gini', random_state = 100,max_depth=6, min_samples_leaf=8)\n",
    "model_en_sam.fit(x_train,y_train)\n",
    "y_pred=model_en_sam.predict(x_test)\n",
    "model_en_sam.score(x_test,y_test)"
   ]
  },
  {
   "cell_type": "code",
   "execution_count": null,
   "metadata": {},
   "outputs": [],
   "source": []
  },
  {
   "cell_type": "code",
   "execution_count": 67,
   "metadata": {},
   "outputs": [
    {
     "name": "stdout",
     "output_type": "stream",
     "text": [
      "Fitting 5 folds for each of 10 candidates, totalling 50 fits\n"
     ]
    },
    {
     "name": "stderr",
     "output_type": "stream",
     "text": [
      "[Parallel(n_jobs=-1)]: Using backend LokyBackend with 4 concurrent workers.\n",
      "[Parallel(n_jobs=-1)]: Done   5 tasks      | elapsed:    4.6s\n",
      "[Parallel(n_jobs=-1)]: Done  10 tasks      | elapsed:   11.4s\n",
      "[Parallel(n_jobs=-1)]: Done  17 tasks      | elapsed:   23.3s\n",
      "[Parallel(n_jobs=-1)]: Done  24 tasks      | elapsed:   25.3s\n",
      "[Parallel(n_jobs=-1)]: Done  33 tasks      | elapsed:   28.1s\n",
      "[Parallel(n_jobs=-1)]: Done  42 tasks      | elapsed:   36.8s\n",
      "[Parallel(n_jobs=-1)]: Done  50 out of  50 | elapsed:   40.1s finished\n"
     ]
    },
    {
     "name": "stdout",
     "output_type": "stream",
     "text": [
      "[19:58:09] WARNING: C:/Users/Administrator/workspace/xgboost-win64_release_1.3.0/src/learner.cc:1061: Starting in XGBoost 1.3.0, the default evaluation metric used with the objective 'binary:logistic' was changed from 'error' to 'logloss'. Explicitly set eval_metric if you'd like to restore the old behavior.\n"
     ]
    },
    {
     "data": {
      "text/plain": [
       "RandomizedSearchCV(cv=5,\n",
       "                   estimator=XGBClassifier(base_score=None, booster=None,\n",
       "                                           colsample_bylevel=None,\n",
       "                                           colsample_bynode=None,\n",
       "                                           colsample_bytree=None, gamma=None,\n",
       "                                           gpu_id=None, importance_type='gain',\n",
       "                                           interaction_constraints=None,\n",
       "                                           learning_rate=None,\n",
       "                                           max_delta_step=None, max_depth=None,\n",
       "                                           min_child_weight=None, missing=nan,\n",
       "                                           monotone_constraints=None,\n",
       "                                           n_estimators=100,...\n",
       "                                           reg_lambda=None,\n",
       "                                           scale_pos_weight=None,\n",
       "                                           subsample=None, tree_method=None,\n",
       "                                           validate_parameters=None,\n",
       "                                           verbosity=None),\n",
       "                   n_jobs=-1,\n",
       "                   param_distributions={'colsample_bytree': [0.1, 0.3, 0.5, 1],\n",
       "                                        'learning_rate': [0.01, 0.03, 0.05, 0.1,\n",
       "                                                          0.15, 0.2],\n",
       "                                        'max_depth': [3, 5, 10],\n",
       "                                        'min_child_weight': [1, 4, 7],\n",
       "                                        'n_estimators': [100, 200, 500, 1000,\n",
       "                                                         2000],\n",
       "                                        'subsample': [0.1, 0.3, 0.5, 1]},\n",
       "                   verbose=10)"
      ]
     },
     "execution_count": 67,
     "metadata": {},
     "output_type": "execute_result"
    }
   ],
   "source": [
    "# https://www.analyticsvidhya.com/blog/2016/03/complete-guide-parameter-tuning-xgboost-with-codes-python/\n",
    "model_xgb=XGBClassifier()\n",
    "\n",
    "prams={\n",
    "    'learning_rate':[0.01,0.03,0.05,0.1,0.15,0.2],\n",
    "     'n_estimators':[100,200,500,1000,2000],\n",
    "     'max_depth':[3,5,10],\n",
    "    'min_child_weight':[1,4,7],\n",
    "    'colsample_bytree':[0.1,0.3,0.5,1],\n",
    "    'subsample':[0.1,0.3,0.5,1]\n",
    "}\n",
    "model_xgb=RandomizedSearchCV(model_xgb,param_distributions=prams,verbose=10,n_jobs=-1,cv=5)\n",
    "model_xgb.fit(x_train,y_train)\n"
   ]
  },
  {
   "cell_type": "code",
   "execution_count": 68,
   "metadata": {},
   "outputs": [
    {
     "name": "stdout",
     "output_type": "stream",
     "text": [
      "{'subsample': 0.1, 'n_estimators': 100, 'min_child_weight': 7, 'max_depth': 3, 'learning_rate': 0.1, 'colsample_bytree': 0.5}\n"
     ]
    }
   ],
   "source": [
    "print(model_xgb.best_params_)"
   ]
  },
  {
   "cell_type": "code",
   "execution_count": 69,
   "metadata": {},
   "outputs": [
    {
     "name": "stdout",
     "output_type": "stream",
     "text": [
      "[19:58:32] WARNING: C:/Users/Administrator/workspace/xgboost-win64_release_1.3.0/src/learner.cc:1061: Starting in XGBoost 1.3.0, the default evaluation metric used with the objective 'binary:logistic' was changed from 'error' to 'logloss'. Explicitly set eval_metric if you'd like to restore the old behavior.\n"
     ]
    },
    {
     "data": {
      "text/plain": [
       "XGBClassifier(base_score=0.5, booster='gbtree', colsample_bylevel=1,\n",
       "              colsample_bynode=1, colsample_bytree=0.5, gamma=0, gpu_id=-1,\n",
       "              importance_type='gain', interaction_constraints='',\n",
       "              learning_rate=0.1, max_delta_step=0, max_depth=3,\n",
       "              min_child_weight=7, missing=nan, monotone_constraints='()',\n",
       "              n_estimators=100, n_jobs=4, num_parallel_tree=1, random_state=0,\n",
       "              reg_alpha=0, reg_lambda=1, scale_pos_weight=1, subsample=0.1,\n",
       "              tree_method='exact', validate_parameters=1, verbosity=None)"
      ]
     },
     "execution_count": 69,
     "metadata": {},
     "output_type": "execute_result"
    }
   ],
   "source": [
    "model_xgb =XGBClassifier(subsample=0.1,n_estimators=100,min_child_weight=7,max_depth=3,learning_rate=0.1,colsample_bytree=0.5)\n",
    "model_xgb.fit(x_train,y_train)"
   ]
  },
  {
   "cell_type": "code",
   "execution_count": 70,
   "metadata": {},
   "outputs": [],
   "source": [
    " y_xgb=model_xgb.predict(x_test)"
   ]
  },
  {
   "cell_type": "code",
   "execution_count": 71,
   "metadata": {},
   "outputs": [
    {
     "data": {
      "text/plain": [
       "0.8073916133617626"
      ]
     },
     "execution_count": 71,
     "metadata": {},
     "output_type": "execute_result"
    }
   ],
   "source": [
    "model_xgb.score(x_test,y_test)"
   ]
  },
  {
   "cell_type": "code",
   "execution_count": null,
   "metadata": {},
   "outputs": [],
   "source": []
  }
 ],
 "metadata": {
  "kernelspec": {
   "display_name": "Python 3",
   "language": "python",
   "name": "python3"
  },
  "language_info": {
   "codemirror_mode": {
    "name": "ipython",
    "version": 3
   },
   "file_extension": ".py",
   "mimetype": "text/x-python",
   "name": "python",
   "nbconvert_exporter": "python",
   "pygments_lexer": "ipython3",
   "version": "3.8.8"
  }
 },
 "nbformat": 4,
 "nbformat_minor": 4
}
